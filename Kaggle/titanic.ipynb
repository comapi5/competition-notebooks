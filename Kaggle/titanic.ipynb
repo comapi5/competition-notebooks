{
  "nbformat": 4,
  "nbformat_minor": 0,
  "metadata": {
    "colab": {
      "provenance": [],
      "authorship_tag": "ABX9TyNyQpPvuK5NuiueaOl0sBAG"
    },
    "kernelspec": {
      "name": "python3",
      "display_name": "Python 3"
    },
    "language_info": {
      "name": "python"
    }
  },
  "cells": [
    {
      "cell_type": "markdown",
      "source": [
        "# Titanic - Machine Learning from Disaster"
      ],
      "metadata": {
        "id": "Nse0xKPsfkv2"
      }
    },
    {
      "cell_type": "code",
      "source": [],
      "metadata": {
        "id": "lUTWrwTDfuXG"
      },
      "execution_count": null,
      "outputs": []
    }
  ]
}