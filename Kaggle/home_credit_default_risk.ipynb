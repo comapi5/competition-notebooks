{
  "nbformat": 4,
  "nbformat_minor": 0,
  "metadata": {
    "colab": {
      "provenance": [],
      "authorship_tag": "ABX9TyM6kX47zaL09r7NWUYzBd7y"
    },
    "kernelspec": {
      "name": "python3",
      "display_name": "Python 3"
    },
    "language_info": {
      "name": "python"
    }
  },
  "cells": [
    {
      "cell_type": "markdown",
      "source": [
        "# Home Credit Default Risk"
      ],
      "metadata": {
        "id": "0mPRqUZYd8kH"
      }
    },
    {
      "cell_type": "code",
      "source": [],
      "metadata": {
        "id": "44gB32TAeRNQ"
      },
      "execution_count": null,
      "outputs": []
    }
  ]
}